{
 "cells": [
  {
   "cell_type": "markdown",
   "id": "9e9fc416",
   "metadata": {},
   "source": [
    "# 2nd Tutorial - Basics of Python"
   ]
  },
  {
   "cell_type": "code",
   "execution_count": 1,
   "id": "2540348a",
   "metadata": {},
   "outputs": [
    {
     "name": "stdout",
     "output_type": "stream",
     "text": [
      "Hello World\n"
     ]
    }
   ],
   "source": [
    "print(\"Hello World\")"
   ]
  },
  {
   "cell_type": "code",
   "execution_count": 2,
   "id": "7c6d0043",
   "metadata": {},
   "outputs": [],
   "source": [
    "# Single and multi-line comment\n",
    "# Welcome here"
   ]
  },
  {
   "cell_type": "code",
   "execution_count": 3,
   "id": "fc33c626",
   "metadata": {},
   "outputs": [
    {
     "name": "stdout",
     "output_type": "stream",
     "text": [
      "Hello Tripti\n"
     ]
    }
   ],
   "source": [
    "'''\n",
    "Welcome to this tutorial\n",
    "Enjoy practicing\n",
    "'''\n",
    "\n",
    "print(\"Hello Tripti\")"
   ]
  },
  {
   "cell_type": "markdown",
   "id": "ab530ab9",
   "metadata": {},
   "source": [
    "# Variable Declaration"
   ]
  },
  {
   "cell_type": "code",
   "execution_count": 16,
   "id": "11556b5b",
   "metadata": {},
   "outputs": [
    {
     "data": {
      "text/plain": [
       "int"
      ]
     },
     "execution_count": 16,
     "metadata": {},
     "output_type": "execute_result"
    }
   ],
   "source": [
    "a = 10\n",
    "type(a)"
   ]
  },
  {
   "cell_type": "code",
   "execution_count": 17,
   "id": "91ff04ac",
   "metadata": {},
   "outputs": [
    {
     "name": "stdout",
     "output_type": "stream",
     "text": [
      "10\n"
     ]
    }
   ],
   "source": [
    "print(a)"
   ]
  },
  {
   "cell_type": "code",
   "execution_count": 8,
   "id": "f936014b",
   "metadata": {},
   "outputs": [
    {
     "data": {
      "text/plain": [
       "str"
      ]
     },
     "execution_count": 8,
     "metadata": {},
     "output_type": "execute_result"
    }
   ],
   "source": [
    "b = 15.6\n",
    "c = \"Tripti\"\n",
    "type(c)"
   ]
  },
  {
   "cell_type": "code",
   "execution_count": 9,
   "id": "c0f904ed",
   "metadata": {},
   "outputs": [
    {
     "data": {
      "text/plain": [
       "float"
      ]
     },
     "execution_count": 9,
     "metadata": {},
     "output_type": "execute_result"
    }
   ],
   "source": [
    "type(b)"
   ]
  },
  {
   "cell_type": "code",
   "execution_count": 13,
   "id": "3c907cf8",
   "metadata": {},
   "outputs": [
    {
     "name": "stdout",
     "output_type": "stream",
     "text": [
      "10\n"
     ]
    }
   ],
   "source": [
    "#bad practice\n",
    "#1a = 10\n",
    "\n",
    "#good practice\n",
    "a1 = 10\n",
    "print(a1)"
   ]
  },
  {
   "cell_type": "code",
   "execution_count": 14,
   "id": "ad74fd7f",
   "metadata": {},
   "outputs": [
    {
     "name": "stdout",
     "output_type": "stream",
     "text": [
      "Tripti\n"
     ]
    }
   ],
   "source": [
    "#good practice\n",
    "first_name = \"Tripti\"\n",
    "print(first_name)"
   ]
  },
  {
   "cell_type": "markdown",
   "id": "1cb82c46",
   "metadata": {},
   "source": [
    "# Integers"
   ]
  },
  {
   "cell_type": "code",
   "execution_count": 18,
   "id": "eae8b419",
   "metadata": {},
   "outputs": [
    {
     "data": {
      "text/plain": [
       "int"
      ]
     },
     "execution_count": 18,
     "metadata": {},
     "output_type": "execute_result"
    }
   ],
   "source": [
    "a = 10\n",
    "type(a)"
   ]
  },
  {
   "cell_type": "code",
   "execution_count": 19,
   "id": "e21922d3",
   "metadata": {},
   "outputs": [
    {
     "data": {
      "text/plain": [
       "20"
      ]
     },
     "execution_count": 19,
     "metadata": {},
     "output_type": "execute_result"
    }
   ],
   "source": [
    "a + 10"
   ]
  },
  {
   "cell_type": "code",
   "execution_count": 20,
   "id": "c4933e37",
   "metadata": {},
   "outputs": [
    {
     "data": {
      "text/plain": [
       "100"
      ]
     },
     "execution_count": 20,
     "metadata": {},
     "output_type": "execute_result"
    }
   ],
   "source": [
    "a * 10"
   ]
  },
  {
   "cell_type": "code",
   "execution_count": 21,
   "id": "b7f97af1",
   "metadata": {},
   "outputs": [
    {
     "data": {
      "text/plain": [
       "1.0"
      ]
     },
     "execution_count": 21,
     "metadata": {},
     "output_type": "execute_result"
    }
   ],
   "source": [
    "a/10"
   ]
  },
  {
   "cell_type": "code",
   "execution_count": 22,
   "id": "6457de05",
   "metadata": {},
   "outputs": [
    {
     "data": {
      "text/plain": [
       "0"
      ]
     },
     "execution_count": 22,
     "metadata": {},
     "output_type": "execute_result"
    }
   ],
   "source": [
    "a%10"
   ]
  },
  {
   "cell_type": "code",
   "execution_count": 23,
   "id": "2cc590c5",
   "metadata": {},
   "outputs": [
    {
     "name": "stdout",
     "output_type": "stream",
     "text": [
      "<class 'int'>\n"
     ]
    }
   ],
   "source": [
    "print(type(a))"
   ]
  },
  {
   "cell_type": "code",
   "execution_count": 24,
   "id": "cf68e83d",
   "metadata": {},
   "outputs": [
    {
     "name": "stdout",
     "output_type": "stream",
     "text": [
      "30\n"
     ]
    }
   ],
   "source": [
    "a = 10\n",
    "b = 20\n",
    "print(a+b)"
   ]
  },
  {
   "cell_type": "markdown",
   "id": "f3c31f7c",
   "metadata": {},
   "source": [
    "# Floating"
   ]
  },
  {
   "cell_type": "code",
   "execution_count": 25,
   "id": "401c1c91",
   "metadata": {},
   "outputs": [
    {
     "name": "stdout",
     "output_type": "stream",
     "text": [
      "<class 'float'>\n"
     ]
    }
   ],
   "source": [
    "a = 180.5\n",
    "print(type(a))"
   ]
  },
  {
   "cell_type": "code",
   "execution_count": 26,
   "id": "487fced9",
   "metadata": {},
   "outputs": [
    {
     "name": "stdout",
     "output_type": "stream",
     "text": [
      "180.5\n"
     ]
    }
   ],
   "source": [
    "print(a)"
   ]
  },
  {
   "cell_type": "code",
   "execution_count": 27,
   "id": "b5024399",
   "metadata": {},
   "outputs": [
    {
     "data": {
      "text/plain": [
       "180"
      ]
     },
     "execution_count": 27,
     "metadata": {},
     "output_type": "execute_result"
    }
   ],
   "source": [
    "#Typecasting\n",
    "int(a)"
   ]
  },
  {
   "cell_type": "markdown",
   "id": "a1f9f8ad",
   "metadata": {},
   "source": [
    "# Boolean"
   ]
  },
  {
   "cell_type": "code",
   "execution_count": 28,
   "id": "bc431990",
   "metadata": {},
   "outputs": [],
   "source": [
    "a = True \n",
    "b = False"
   ]
  },
  {
   "cell_type": "code",
   "execution_count": 29,
   "id": "ef82de2f",
   "metadata": {},
   "outputs": [
    {
     "data": {
      "text/plain": [
       "bool"
      ]
     },
     "execution_count": 29,
     "metadata": {},
     "output_type": "execute_result"
    }
   ],
   "source": [
    "type(a)\n",
    "type(b)"
   ]
  },
  {
   "cell_type": "code",
   "execution_count": 30,
   "id": "dab4cc3f",
   "metadata": {},
   "outputs": [
    {
     "data": {
      "text/plain": [
       "False"
      ]
     },
     "execution_count": 30,
     "metadata": {},
     "output_type": "execute_result"
    }
   ],
   "source": [
    "a and b"
   ]
  },
  {
   "cell_type": "code",
   "execution_count": 31,
   "id": "58c15435",
   "metadata": {},
   "outputs": [
    {
     "data": {
      "text/plain": [
       "True"
      ]
     },
     "execution_count": 31,
     "metadata": {},
     "output_type": "execute_result"
    }
   ],
   "source": [
    "a or b"
   ]
  },
  {
   "cell_type": "code",
   "execution_count": 32,
   "id": "5cce2c62",
   "metadata": {},
   "outputs": [
    {
     "data": {
      "text/plain": [
       "False"
      ]
     },
     "execution_count": 32,
     "metadata": {},
     "output_type": "execute_result"
    }
   ],
   "source": [
    "a & b"
   ]
  },
  {
   "cell_type": "code",
   "execution_count": 33,
   "id": "abce749c",
   "metadata": {},
   "outputs": [
    {
     "data": {
      "text/plain": [
       "True"
      ]
     },
     "execution_count": 33,
     "metadata": {},
     "output_type": "execute_result"
    }
   ],
   "source": [
    "a | b"
   ]
  },
  {
   "cell_type": "markdown",
   "id": "e5f8f187",
   "metadata": {},
   "source": [
    "# Strings"
   ]
  },
  {
   "cell_type": "code",
   "execution_count": 34,
   "id": "98629a1b",
   "metadata": {},
   "outputs": [],
   "source": [
    "name = \"Tripti\""
   ]
  },
  {
   "cell_type": "code",
   "execution_count": 35,
   "id": "84cfa00c",
   "metadata": {},
   "outputs": [
    {
     "name": "stdout",
     "output_type": "stream",
     "text": [
      "<class 'str'>\n",
      "Tripti\n"
     ]
    }
   ],
   "source": [
    "print(type(name))\n",
    "print(name)"
   ]
  },
  {
   "cell_type": "code",
   "execution_count": 36,
   "id": "c04b1c3d",
   "metadata": {},
   "outputs": [
    {
     "data": {
      "text/plain": [
       "'TriptiGupta'"
      ]
     },
     "execution_count": 36,
     "metadata": {},
     "output_type": "execute_result"
    }
   ],
   "source": [
    "#Concatenation\n",
    "name + \"Gupta\""
   ]
  },
  {
   "cell_type": "code",
   "execution_count": 38,
   "id": "d36a8666",
   "metadata": {},
   "outputs": [
    {
     "data": {
      "text/plain": [
       "'Tripti1'"
      ]
     },
     "execution_count": 38,
     "metadata": {},
     "output_type": "execute_result"
    }
   ],
   "source": [
    "#Concatenation with typecasting\n",
    "#name + 1 - convert into string\n",
    "\n",
    "name + str(1) #dynamic typing"
   ]
  },
  {
   "cell_type": "markdown",
   "id": "76de4f6a",
   "metadata": {},
   "source": [
    "# Complex Number"
   ]
  },
  {
   "cell_type": "code",
   "execution_count": 39,
   "id": "a200a1f9",
   "metadata": {},
   "outputs": [],
   "source": [
    "j = 1.0 - 2.3j"
   ]
  },
  {
   "cell_type": "code",
   "execution_count": 40,
   "id": "36e3cd68",
   "metadata": {},
   "outputs": [
    {
     "name": "stdout",
     "output_type": "stream",
     "text": [
      "(1-2.3j)\n"
     ]
    }
   ],
   "source": [
    "print(j)"
   ]
  },
  {
   "cell_type": "code",
   "execution_count": 41,
   "id": "d64c9282",
   "metadata": {},
   "outputs": [
    {
     "name": "stdout",
     "output_type": "stream",
     "text": [
      "<class 'complex'>\n"
     ]
    }
   ],
   "source": [
    "print(type(j))"
   ]
  },
  {
   "cell_type": "code",
   "execution_count": 42,
   "id": "9b429de6",
   "metadata": {},
   "outputs": [
    {
     "name": "stdout",
     "output_type": "stream",
     "text": [
      "1.0\n"
     ]
    }
   ],
   "source": [
    "print(j.real)"
   ]
  },
  {
   "cell_type": "code",
   "execution_count": 43,
   "id": "0145b0d9",
   "metadata": {},
   "outputs": [
    {
     "name": "stdout",
     "output_type": "stream",
     "text": [
      "-2.3\n"
     ]
    }
   ],
   "source": [
    "print(j.imag)"
   ]
  },
  {
   "cell_type": "code",
   "execution_count": 44,
   "id": "2c13cf7c",
   "metadata": {},
   "outputs": [
    {
     "name": "stdout",
     "output_type": "stream",
     "text": [
      "1.0 -2.3\n"
     ]
    }
   ],
   "source": [
    "print(j.real, j.imag)"
   ]
  },
  {
   "cell_type": "markdown",
   "id": "fcba3a31",
   "metadata": {},
   "source": [
    "# Dynamic Typing"
   ]
  },
  {
   "cell_type": "code",
   "execution_count": 45,
   "id": "07ec322d",
   "metadata": {},
   "outputs": [
    {
     "name": "stdout",
     "output_type": "stream",
     "text": [
      "Tripti\n"
     ]
    }
   ],
   "source": [
    "a = 10\n",
    "a = \"Tripti\"\n",
    "print(a)    #data type changes instantly"
   ]
  },
  {
   "cell_type": "code",
   "execution_count": 46,
   "id": "6457a339",
   "metadata": {},
   "outputs": [
    {
     "data": {
      "text/plain": [
       "str"
      ]
     },
     "execution_count": 46,
     "metadata": {},
     "output_type": "execute_result"
    }
   ],
   "source": [
    "type(a)"
   ]
  },
  {
   "cell_type": "markdown",
   "id": "231b8c7b",
   "metadata": {},
   "source": [
    "# Strong Typing"
   ]
  },
  {
   "cell_type": "code",
   "execution_count": 48,
   "id": "5aa6e739",
   "metadata": {},
   "outputs": [],
   "source": [
    "a = \"tripti\""
   ]
  },
  {
   "cell_type": "code",
   "execution_count": 49,
   "id": "d08828af",
   "metadata": {},
   "outputs": [
    {
     "data": {
      "text/plain": [
       "'tripti1'"
      ]
     },
     "execution_count": 49,
     "metadata": {},
     "output_type": "execute_result"
    }
   ],
   "source": [
    "a + \"1\""
   ]
  },
  {
   "cell_type": "code",
   "execution_count": 50,
   "id": "ede2b79c",
   "metadata": {},
   "outputs": [
    {
     "data": {
      "text/plain": [
       "str"
      ]
     },
     "execution_count": 50,
     "metadata": {},
     "output_type": "execute_result"
    }
   ],
   "source": [
    "type(a)"
   ]
  },
  {
   "cell_type": "markdown",
   "id": "7f53241b",
   "metadata": {},
   "source": [
    "# String Formatting"
   ]
  },
  {
   "cell_type": "code",
   "execution_count": 53,
   "id": "30181d78",
   "metadata": {},
   "outputs": [
    {
     "name": "stdout",
     "output_type": "stream",
     "text": [
      "The value of a is - 100\n"
     ]
    }
   ],
   "source": [
    "a = 100\n",
    "print(\"The value of a is -\",a)"
   ]
  },
  {
   "cell_type": "code",
   "execution_count": 54,
   "id": "5c5dfc96",
   "metadata": {},
   "outputs": [
    {
     "name": "stdout",
     "output_type": "stream",
     "text": [
      "The first name is Tripti and last name is Gupta\n"
     ]
    }
   ],
   "source": [
    "first_name = \"Tripti\"\n",
    "last_name = \"Gupta\"\n",
    "print(\"The first name is {} and last name is {}\".format(first_name, last_name))"
   ]
  },
  {
   "cell_type": "code",
   "execution_count": 57,
   "id": "e69cd09a",
   "metadata": {},
   "outputs": [
    {
     "name": "stdout",
     "output_type": "stream",
     "text": [
      "The first name is Tripti and last name is Gupta\n"
     ]
    }
   ],
   "source": [
    "first_name = \"Tripti\"\n",
    "last_name = \"Gupta\"\n",
    "print(\"The first name is {0} and last name is {1}\".format(first_name, last_name))"
   ]
  },
  {
   "cell_type": "code",
   "execution_count": 58,
   "id": "e6a83f16",
   "metadata": {},
   "outputs": [
    {
     "name": "stdout",
     "output_type": "stream",
     "text": [
      "The first name is Tripti and last name is Gupta\n"
     ]
    }
   ],
   "source": [
    "first_name = \"Tripti\"\n",
    "last_name = \"Gupta\"\n",
    "print(\"The first name is {1} and last name is {0}\".format(last_name, first_name))"
   ]
  },
  {
   "cell_type": "code",
   "execution_count": 59,
   "id": "99ef6fe7",
   "metadata": {},
   "outputs": [
    {
     "name": "stdout",
     "output_type": "stream",
     "text": [
      "The first name is Tripti and last name is Gupta\n"
     ]
    }
   ],
   "source": [
    "first_name = \"Tripti\"\n",
    "last_name = \"Gupta\"\n",
    "print(\"The first name is {a} and last name is {b}\".format(a = first_name, b = last_name))"
   ]
  },
  {
   "cell_type": "markdown",
   "id": "ffaf2291",
   "metadata": {},
   "source": [
    "# Input type"
   ]
  },
  {
   "cell_type": "code",
   "execution_count": 61,
   "id": "c39bea86",
   "metadata": {},
   "outputs": [
    {
     "name": "stdout",
     "output_type": "stream",
     "text": [
      "Enter your name: Tripti Gupta \n"
     ]
    },
    {
     "data": {
      "text/plain": [
       "'Tripti Gupta '"
      ]
     },
     "execution_count": 61,
     "metadata": {},
     "output_type": "execute_result"
    }
   ],
   "source": [
    "input(\"Enter your name: \")"
   ]
  },
  {
   "cell_type": "code",
   "execution_count": 62,
   "id": "ba46f9ed",
   "metadata": {},
   "outputs": [
    {
     "name": "stdout",
     "output_type": "stream",
     "text": [
      "Enter number A: 12\n",
      "Enter number B: 23\n"
     ]
    }
   ],
   "source": [
    "a = input(\"Enter number A: \")\n",
    "b = input(\"Enter number B: \")"
   ]
  },
  {
   "cell_type": "code",
   "execution_count": 63,
   "id": "4a750353",
   "metadata": {},
   "outputs": [
    {
     "name": "stdout",
     "output_type": "stream",
     "text": [
      "1223\n"
     ]
    }
   ],
   "source": [
    "print(a+b) #string values are there. So simply concatenation applys here"
   ]
  },
  {
   "cell_type": "code",
   "execution_count": 64,
   "id": "4a7d0dec",
   "metadata": {},
   "outputs": [
    {
     "name": "stdout",
     "output_type": "stream",
     "text": [
      "35\n"
     ]
    }
   ],
   "source": [
    "print(int(a) + int(b))"
   ]
  }
 ],
 "metadata": {
  "kernelspec": {
   "display_name": "Python 3 (ipykernel)",
   "language": "python",
   "name": "python3"
  },
  "language_info": {
   "codemirror_mode": {
    "name": "ipython",
    "version": 3
   },
   "file_extension": ".py",
   "mimetype": "text/x-python",
   "name": "python",
   "nbconvert_exporter": "python",
   "pygments_lexer": "ipython3",
   "version": "3.9.12"
  }
 },
 "nbformat": 4,
 "nbformat_minor": 5
}
